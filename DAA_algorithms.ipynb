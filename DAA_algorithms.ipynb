{
 "cells": [
  {
   "cell_type": "markdown",
   "metadata": {},
   "source": [
    "<h1 style=\"color:#ffaa00; padding:20px; text-align:center; font-size:30px; border-top-left-radius:10px; border-top-right-radius:10px;background-color:#47d1d1; border:2px solid #ffaa00; margin:0px;\">DAA Algorithm implimentation</h1>\n",
    "<img src=\"https://i.imgur.com/NLGPJ.jpg\" width=100% height=auto>\n"
   ]
  },
  {
   "cell_type": "markdown",
   "metadata": {},
   "source": [
    "<h1 style=\"color:cyan; padding:10px; text-align:center; font-size:30px; border-radius:40px;background-color:black;\">Sorting algos</h1> \n",
    "<br><hr><br>"
   ]
  },
  {
   "cell_type": "markdown",
   "metadata": {},
   "source": [
    "<h1 style=\"color:#007399; padding:10px; text-align:center; font-size:20px; border-radius:20px;background-color:#b3ffd9;\">\n",
    "    1. Merge sort</h1> "
   ]
  },
  {
   "cell_type": "code",
   "execution_count": 13,
   "metadata": {},
   "outputs": [
    {
     "name": "stdout",
     "output_type": "stream",
     "text": [
      "[1, 5, 6, 9, 10, 12]\n"
     ]
    }
   ],
   "source": [
    "def MergeSort(arr=[]):\n",
    "    if len(arr)>1:\n",
    "        mid=len(arr)//2\n",
    "        l=arr[:mid]\n",
    "        r=arr[mid:]\n",
    "        MergeSort(l)\n",
    "        MergeSort(r)\n",
    "        i=j=k=0\n",
    "        while i<len(l) and j <len(r):\n",
    "            if l[i]<r[j]:\n",
    "                arr[k]=l[i]\n",
    "                i+=1\n",
    "            else:\n",
    "                arr[k]=r[j]\n",
    "                j+=1\n",
    "            k+=1\n",
    "       \n",
    "        while i < len(l):\n",
    "            arr[k] = l[i]\n",
    "            i += 1\n",
    "            k += 1\n",
    "\n",
    "        while j < len(r):\n",
    "            arr[k] = r[j]\n",
    "            j += 1\n",
    "            k += 1\n",
    "        return arr\n",
    "\n",
    "if __name__==\"__main__\":    \n",
    "    arr=[6, 5, 12, 10, 9, 1]            \n",
    "    myarr=MergeSort(arr)\n",
    "    print(myarr)\n",
    "        "
   ]
  },
  {
   "cell_type": "markdown",
   "metadata": {},
   "source": [
    "\n",
    "<h1 style=\"color:#007399; padding:10px; text-align:center; font-size:20px; border-radius:20px;background-color:#b3ffd9;\">\n",
    "    happy number(out of context)</h1> "
   ]
  },
  {
   "cell_type": "code",
   "execution_count": 8,
   "metadata": {},
   "outputs": [
    {
     "name": "stdout",
     "output_type": "stream",
     "text": [
      "Enter a number :20\n",
      "20 is not a happy number\n",
      "\n"
     ]
    }
   ],
   "source": [
    "class happyNumber:\n",
    "    def __init__(self):\n",
    "        n = int(input(\"Enter a number :\"))\n",
    "        \n",
    "        if self.validateHappy(n):\n",
    "            print(n, \"is a happy number\")\n",
    "        else:\n",
    "            print(n, \"is not a happy number\")\n",
    "\n",
    "    def validateHappy(self, n):\n",
    "        chk1, chk2 = n, n\n",
    "        while (True):\n",
    "            chk1 = self.getNsquare(chk1)\n",
    "            chk2 = self.getNsquare(self.getNsquare(chk2))\n",
    "            # print(chk1, chk2)\n",
    "            if chk1 != chk2:\n",
    "                continue\n",
    "            else:\n",
    "                break\n",
    "        if chk1 == 1:\n",
    "            return True\n",
    "        else:\n",
    "            return False\n",
    "\n",
    "    def getNsquare(self, n):\n",
    "        num = 0\n",
    "        while (n > 0):\n",
    "            num += (n % 10) ** 2\n",
    "            n = n // 10\n",
    "        return num\n",
    "\n",
    "happyNumber()\n",
    "print(\"\")\n"
   ]
  },
  {
   "cell_type": "markdown",
   "metadata": {},
   "source": [
    "<h1 style=\"color:#007399; padding:10px; text-align:center; font-size:20px; border-radius:20px;background-color:#b3ffd9;\">\n",
    "    2. Bubble sort</h1> "
   ]
  },
  {
   "cell_type": "code",
   "execution_count": 9,
   "metadata": {},
   "outputs": [
    {
     "name": "stdout",
     "output_type": "stream",
     "text": [
      "[1, 2, 4, 5, 6, 9]\n"
     ]
    }
   ],
   "source": [
    "def bubblesort(arr=[]):\n",
    "    n=len(arr)\n",
    "    for i in range(n-1):\n",
    "        for j in range(n-i-1):\n",
    "            if arr[j]>arr[j+1]:\n",
    "                arr[j],arr[j+1]=arr[j+1],arr[j]\n",
    "    return arr\n",
    "\n",
    "print(bubblesort([9,2,5,1,4,6]))"
   ]
  },
  {
   "cell_type": "markdown",
   "metadata": {},
   "source": [
    "<h1 style=\"color:#007399; padding:10px; text-align:center; font-size:20px; border-radius:20px;background-color:#b3ffd9;\">\n",
    "    3. Quick sort</h1> "
   ]
  },
  {
   "cell_type": "code",
   "execution_count": 12,
   "metadata": {},
   "outputs": [
    {
     "name": "stdout",
     "output_type": "stream",
     "text": [
      "[2, 3, 6, 6, 7, 9]\n"
     ]
    }
   ],
   "source": [
    "def partition(arr,low,high):\n",
    "    i = ( low-1 )\n",
    "    pivot = arr[high] # pivot element\n",
    "    for j in range(low , high):\n",
    "        # If current element is smaller\n",
    "        if arr[j] <= pivot:\n",
    "            # increment\n",
    "            i = i+1\n",
    "            arr[i],arr[j] = arr[j],arr[i]\n",
    "    arr[i+1],arr[high] = arr[high],arr[i+1]\n",
    "    return ( i+1 )\n",
    "# sort\n",
    "def quickSort(arr,low,high):\n",
    "    \n",
    "    if low < high:\n",
    "        # index\n",
    "        pi = partition(arr,low,high)\n",
    "        # sort the partitions\n",
    "        quickSort(arr, low, pi-1)\n",
    "        quickSort(arr, pi+1, high)\n",
    "    return arr\n",
    "\n",
    "if __name__==\"__main__\":\n",
    "    arr=[9,6,3,6,2,7]\n",
    "    list=quickSort(arr,0,len(arr)-1)\n",
    "    print(list)"
   ]
  },
  {
   "cell_type": "markdown",
   "metadata": {},
   "source": [
    "<h1 style=\"color:#007399; padding:10px; text-align:center; font-size:20px; border-radius:20px;background-color:#b3ffd9;\">\n",
    "    4. Insertion sort</h1> "
   ]
  },
  {
   "cell_type": "code",
   "execution_count": 17,
   "metadata": {},
   "outputs": [
    {
     "name": "stdout",
     "output_type": "stream",
     "text": [
      "Enter values sepereted by space:3 7 4 7 9 1 8 6\n",
      "1 3 4 6 7 7 8 9 "
     ]
    }
   ],
   "source": [
    "def insertionSort(arr):\n",
    "  \n",
    "    \n",
    "    for i in range(1, len(arr)):\n",
    "  \n",
    "        key = arr[i]\n",
    "        j = i-1\n",
    "        while j >=0 and key < arr[j] :\n",
    "                arr[j+1] = arr[j]\n",
    "                j -= 1\n",
    "        arr[j+1] = key\n",
    "    return arr\n",
    "      \n",
    "arr = [int(x) for x in input(\"Enter values sepereted by space:\").split()]\n",
    "ar=insertionSort(arr)\n",
    "for i in ar:\n",
    "    print(i,end=\" \")"
   ]
  },
  {
   "cell_type": "markdown",
   "metadata": {},
   "source": [
    "<h1 style=\"color:#007399; padding:10px; text-align:center; font-size:20px; border-radius:20px;background-color:#b3ffd9;\">\n",
    "    5. Selection sort</h1> "
   ]
  },
  {
   "cell_type": "code",
   "execution_count": 23,
   "metadata": {},
   "outputs": [
    {
     "name": "stdout",
     "output_type": "stream",
     "text": [
      "[1, 4, 6, 7, 8, 9, 10]\n"
     ]
    }
   ],
   "source": [
    "def selectionsort(arr=[]):\n",
    "    for i in range(len(arr)):\n",
    "        idx=i\n",
    "        for j in range(i+1,len(arr)):\n",
    "            if arr[idx]>arr[j]:\n",
    "                idx=j\n",
    "        arr[i],arr[idx]=arr[idx],arr[i]\n",
    "    return arr\n",
    "arr=selectionsort(arr=[10,8,4,1,9,6,7])\n",
    "print(arr)        "
   ]
  },
  {
   "cell_type": "markdown",
   "metadata": {},
   "source": [
    "<br>\n",
    "<h1 style=\"color:cyan; padding:10px; text-align:center; font-size:30px; border-radius:40px;background-color:black;\">\n",
    "Searching algos</h1> \n",
    "<br>"
   ]
  },
  {
   "cell_type": "markdown",
   "metadata": {},
   "source": [
    "<h1 style=\"background-color:#007399; padding:10px; text-align:center; font-size:20px; border-radius:20px;color:#b3ffd9;\">\n",
    "   6. Linear Search</h1> "
   ]
  },
  {
   "cell_type": "code",
   "execution_count": 28,
   "metadata": {},
   "outputs": [
    {
     "data": {
      "text/plain": [
       "1"
      ]
     },
     "execution_count": 28,
     "metadata": {},
     "output_type": "execute_result"
    }
   ],
   "source": [
    "def LinearSearch(arr,elem):\n",
    "    for i in range(len(arr)):\n",
    "        if arr[i] == elem:\n",
    "            return i\n",
    "    return False\n",
    "arr=[1,2,3,4,5,6]\n",
    "LinearSearch(arr,2)"
   ]
  },
  {
   "cell_type": "markdown",
   "metadata": {},
   "source": [
    "<h1 style=\"background-color:#007399; padding:10px; text-align:center; font-size:20px; border-radius:20px;color:#b3ffd9;\">\n",
    "    7. Binary Search</h1> "
   ]
  },
  {
   "cell_type": "code",
   "execution_count": 45,
   "metadata": {},
   "outputs": [
    {
     "data": {
      "text/plain": [
       "2"
      ]
     },
     "execution_count": 45,
     "metadata": {},
     "output_type": "execute_result"
    }
   ],
   "source": [
    "def binarysearch(arr,s,e,elm):\n",
    "    mid = s + (e - s) // 2\n",
    "    midelm=arr[mid]\n",
    "    \n",
    "    if e>=s:\n",
    "        if elm==midelm:\n",
    "            return mid\n",
    "        elif elm<midelm:\n",
    "            return binarysearch(arr,0,mid-1,elm)\n",
    "        else:\n",
    "            return binarysearch(arr,mid+1,e,elm)\n",
    "    else:\n",
    "        return False\n",
    "# must be sorted arr\n",
    "arr=[1,2,3,4,5]    \n",
    "binarysearch(arr,0,len(arr)-1,3)\n",
    "    "
   ]
  },
  {
   "cell_type": "markdown",
   "metadata": {},
   "source": [
    "<h1 style=\"background-color:#007399; padding:10px; text-align:center; font-size:20px; border-radius:20px;color:#b3ffd9;\">\n",
    "    8. Interpolation Search</h1> "
   ]
  },
  {
   "cell_type": "code",
   "execution_count": 48,
   "metadata": {},
   "outputs": [
    {
     "data": {
      "text/plain": [
       "4"
      ]
     },
     "execution_count": 48,
     "metadata": {},
     "output_type": "execute_result"
    }
   ],
   "source": [
    "def InterpolationSearch(arr, lo, hi, x):\n",
    " \n",
    "    \n",
    "    if (lo <= hi and x >= arr[lo] and x <= arr[hi]):\n",
    " \n",
    "        pos = lo + ((hi - lo) // (arr[hi] - arr[lo]) *(x - arr[lo]))\n",
    " \n",
    "        if arr[pos] == x:\n",
    "            return pos\n",
    "        elif arr[pos] < x:\n",
    "            return interpolationSearch(arr, pos + 1,hi, x)\n",
    "        else:\n",
    "            return interpolationSearch(arr, lo,\n",
    "                                       pos - 1, x)\n",
    "    return False\n",
    "arr=[1,2,3,4,5]    \n",
    "InterpolationSearch(arr,0,len(arr)-1,5)"
   ]
  },
  {
   "cell_type": "markdown",
   "metadata": {},
   "source": [
    "<br>\n",
    "<h1 style=\"color:cyan; padding:10px; text-align:center; font-size:30px; border-radius:40px;background-color:black;\">\n",
    "Fundamental algo strategies</h1> \n",
    "<br>"
   ]
  },
  {
   "cell_type": "markdown",
   "metadata": {},
   "source": [
    "<h1 style=\"background-color:#1ac6ff; padding:10px; text-align:center; font-size:20px; border-radius:20px;color:#ff00ff;\">\n",
    " 9. Strassen's matrix multiplication</h1> "
   ]
  },
  {
   "cell_type": "code",
   "execution_count": 27,
   "metadata": {},
   "outputs": [
    {
     "name": "stdout",
     "output_type": "stream",
     "text": [
      "Enter values for first matrix of row 1: 10 20\n",
      "Enter values for first matrix of row 2: 30 40\n",
      "Enter values for second matrix of row 1: 50 60\n",
      "Enter values for second matrix of row 2: 70 80\n",
      "[[1900, 2200], [4300, 5000]]\n"
     ]
    }
   ],
   "source": [
    "def strassen(a,b):\n",
    "    \n",
    "    m1= (a[0][0] + a[1][1])*(b[0][0]+b[1][1])\n",
    "    m2= (a[1][0]+a[1][1])*b[0][0]\n",
    "    m3= a[0][0]*(b[0][1]-b[1][1])\n",
    "    m4= a[1][1]*(b[1][0]-b[0][0])\n",
    "    m5= (a[0][0]+a[0][1])*b[1][1]\n",
    "    m6= (a[1][0]-a[0][0])*(b[0][0]+b[0][1])\n",
    "    m7= (a[0][1]-a[1][1])*(b[1][0]+b[1][1])\n",
    "    \n",
    "    c=[[],[]]\n",
    "    c[0].append(m1+m4-m5+m7)\n",
    "    c[0].append(m3+m5)\n",
    "    c[1].append(m2+m4)\n",
    "    c[1].append(m1-m2+m3+m6)\n",
    "    \n",
    "    return c\n",
    "\n",
    "    \n",
    "if __name__==\"__main__\":\n",
    "    a=[[int(x) for x in input(\"Enter values for first matrix of row \"+str(i+1)+\": \").split()] for i in range(2)]\n",
    "    b=[[int(x) for x in input(\"Enter values for second matrix of row \"+str(i+1)+\": \").split()] for i in range(2)]\n",
    "    \n",
    "    print(strassen(a,b))"
   ]
  },
  {
   "cell_type": "markdown",
   "metadata": {},
   "source": [
    "<h1 style=\"background-color:#1ac6ff; padding:10px; text-align:center; font-size:20px; border-radius:20px;color:#ff00ff;\">\n",
    "10.Bin packing : best fit algorithm</h1> "
   ]
  },
  {
   "cell_type": "code",
   "execution_count": 40,
   "metadata": {},
   "outputs": [
    {
     "name": "stdout",
     "output_type": "stream",
     "text": [
      "Required bins to fit elements : 4\n"
     ]
    }
   ],
   "source": [
    "def bestfit(box,w):\n",
    "    # counting num of usedbins ini 0\n",
    "    used=0\n",
    "    bin=[]\n",
    "    n=len(box)\n",
    "    \n",
    "    for i in range(n):\n",
    "        min=w+1\n",
    "        bestbin=0\n",
    "        for j in range(used):\n",
    "            if bin[j]>=box[i] and bin[j]-box[i]<min:\n",
    "                bestbin=j\n",
    "                min=bin[j]-box[i]\n",
    "        if min==w+1:\n",
    "            bin.append(0)\n",
    "            \n",
    "            bin[used]=w-box[i]\n",
    "            used+=1\n",
    "        else:\n",
    "            bin[bestbin]-=box[i]\n",
    "    return used\n",
    "\n",
    "box=[ 2, 5, 4, 7, 1, 3, 8 ]\n",
    "capacity=10\n",
    "print(\"Required bins to fit elements :\",bestfit(box,capacity))"
   ]
  },
  {
   "cell_type": "markdown",
   "metadata": {},
   "source": [
    "<h1 style=\"background-color:#1ac6ff; padding:10px; text-align:center; font-size:20px; border-radius:20px;color:#ff00ff;\">\n",
    "11. Max-Min problem</h1> "
   ]
  },
  {
   "cell_type": "code",
   "execution_count": 6,
   "metadata": {},
   "outputs": [
    {
     "name": "stdout",
     "output_type": "stream",
     "text": [
      "2\n"
     ]
    }
   ],
   "source": [
    "def minmax(arr,k):\n",
    "    arr.sort()\n",
    "    resultmin=max(arr)\n",
    "    for i in range((n - k) + 1):\n",
    "        Diff = arr[i + k - 1] - arr[i]\n",
    "        resultmin = min(resultmin, Diff)\n",
    "    return resultmin\n",
    "\n",
    "print(minmax([5,3,1,2,3,4,5],3))"
   ]
  },
  {
   "cell_type": "markdown",
   "metadata": {},
   "source": [
    "<h1 style=\"background-color:#1ac6ff; padding:10px; text-align:center; font-size:20px; border-radius:20px;color:#ff00ff;\">\n",
    "12. 0-1 Knapsack problem</h1> "
   ]
  },
  {
   "cell_type": "code",
   "execution_count": 4,
   "metadata": {},
   "outputs": [
    {
     "name": "stdout",
     "output_type": "stream",
     "text": [
      "220\n"
     ]
    }
   ],
   "source": [
    "def knapsack(w,wt,val,n):\n",
    "    \n",
    "    if n==0 or w==0:\n",
    "        return 0\n",
    "    elif wt[n-1]>w:\n",
    "        return knapsack(w,wt,val,n-1)\n",
    "    else:\n",
    "        return max(val[n-1]+knapsack(w-wt[n-1],wt,val,n-1),knapsack(w,wt,val,n-1))\n",
    "\n",
    "w=50\n",
    "val = [60, 100, 120]\n",
    "wt = [10, 20, 30]\n",
    "n=len(wt)\n",
    "\n",
    "print(knapsack(w,wt,val,n))\n",
    "            "
   ]
  },
  {
   "cell_type": "markdown",
   "metadata": {},
   "source": [
    "<h1 style=\"background-color:#1ac6ff; padding:10px; text-align:center; font-size:20px; border-radius:20px;color:#ff00ff;\">\n",
    "13. Greedy approch : fractional Knapsack problem</h1> "
   ]
  },
  {
   "cell_type": "code",
   "execution_count": 11,
   "metadata": {},
   "outputs": [],
   "source": [
    "def FractionalKnapsack(w,wt,val,n):\n",
    "    frac=[val[i]/wt[i] for i in range(n)]\n",
    "    branch=sorted(zip(frac,wt),reverse=True)\n",
    "    cost=0\n",
    "    for dual in branch:\n",
    "        if w==0:\n",
    "            break\n",
    "        elif dual[1]<=w:\n",
    "            w-=dual[1]\n",
    "            cost+=dual[0]*dual[1]\n",
    "        else:\n",
    "            cost+=dual[0]*w\n",
    "            w=0\n",
    "    return cost\n",
    "                \n",
    "#..................................................    \n",
    "w=50                                             \n",
    "val = [60, 100, 120]\n",
    "wt = [10, 20, 30]\n",
    "n=len(wt)\n",
    "FractionalKnapsack(w,wt,val,n)           "
   ]
  },
  {
   "cell_type": "markdown",
   "metadata": {},
   "source": [
    "<h1 style=\"background-color:#1ac6ff; padding:10px; text-align:center; font-size:20px; border-radius:20px;color:#ff00ff;\">\n",
    "14. Dyanmic approch : 0-1 Knapsack problem</h1> "
   ]
  },
  {
   "cell_type": "code",
   "execution_count": 3,
   "metadata": {},
   "outputs": [
    {
     "data": {
      "text/plain": [
       "220"
      ]
     },
     "execution_count": 3,
     "metadata": {},
     "output_type": "execute_result"
    }
   ],
   "source": [
    "def KnapsackDynamic(w,wt,val,n):\n",
    "    tab=[[0 for _ in range(w+1)] for _ in range(n+1)]\n",
    "    \n",
    "    for i in range(n+1):\n",
    "        for j in range(w+1):\n",
    "            if i==0 or j==0:\n",
    "                tab[i][j]=0\n",
    "            elif wt[i-1]<=j:\n",
    "                tab[i][j] = max(val[i-1] + tab[i-1][j-wt[i-1]],  tab[i-1][j])\n",
    "            else:\n",
    "                tab[i][j]=tab[i-1][j]\n",
    "    return tab[n][w]\n",
    "\n",
    "#..............................................................................\n",
    "\n",
    "w=50                                             \n",
    "val = [60, 100, 120]\n",
    "wt = [10, 20, 30]\n",
    "n=len(wt)\n",
    "KnapsackDynamic(w,wt,val,n)       "
   ]
  },
  {
   "cell_type": "markdown",
   "metadata": {},
   "source": [
    "<h1 style=\"background-color:#1ac6ff; padding:10px; text-align:center; font-size:20px; border-radius:20px;color:#ff00ff;\">\n",
    "15. Activity Selection</h1> "
   ]
  },
  {
   "cell_type": "code",
   "execution_count": 20,
   "metadata": {},
   "outputs": [
    {
     "data": {
      "text/plain": [
       "[(1, 2), (3, 4), (5, 7), (8, 9)]"
      ]
     },
     "execution_count": 20,
     "metadata": {},
     "output_type": "execute_result"
    }
   ],
   "source": [
    "def activityselection(start,end,issorted=False):\n",
    "    activity=zip(start,end)\n",
    "    if issorted==False:\n",
    "        activity=sorted(activity,key=lambda x :x[1])\n",
    "    table=[]\n",
    "    i=0\n",
    "    table.append(activity[i])\n",
    "    \n",
    "    for j in range(1,len(activity)):\n",
    "        if activity[j][0]>=activity[i][1]:\n",
    "            i=j\n",
    "            table.append(activity[i])\n",
    "    return table\n",
    "    \n",
    "#..................................................\n",
    "\n",
    "s = [1 , 3 , 0 , 5 , 8 , 5]\n",
    "f = [2 , 4 , 5 , 7 , 9 , 9]\n",
    "activityselection(s,f)"
   ]
  },
  {
   "cell_type": "markdown",
   "metadata": {},
   "source": [
    "<h1 style=\"background-color:#1ac6ff; padding:10px; text-align:center; font-size:20px; border-radius:20px;color:#ff00ff;\">\n",
    "16. Optimal Merge pattern</h1> "
   ]
  },
  {
   "cell_type": "code",
   "execution_count": 26,
   "metadata": {},
   "outputs": [
    {
     "name": "stdout",
     "output_type": "stream",
     "text": [
      "[4, 5, 6, 7, 5]\n",
      "[6, 7, 5, 9]\n",
      "[7, 9, 11]\n",
      "[11, 16]\n",
      "[27]\n"
     ]
    },
    {
     "data": {
      "text/plain": [
       "68"
      ]
     },
     "execution_count": 26,
     "metadata": {},
     "output_type": "execute_result"
    }
   ],
   "source": [
    "def Optimalmerge(arr):\n",
    "    arr.sort()\n",
    "    count=0\n",
    "    while len(arr)>1:\n",
    "        a=min(arr)\n",
    "        arr.remove(a)\n",
    "        b=min(arr)\n",
    "        arr.remove(b)\n",
    "        count+=(a+b)\n",
    "        arr.append(a+b)\n",
    "        print(arr)\n",
    "    return count\n",
    "        \n",
    "Optimalmerge([2, 3, 4, 5, 6, 7])"
   ]
  },
  {
   "cell_type": "markdown",
   "metadata": {},
   "source": [
    "<h1 style=\"background-color:#bbff33; padding:10px; text-align:center; font-size:20px; border-radius:20px;color:#ff3377;\">\n",
    "17. Huffman Encoding</h1> "
   ]
  },
  {
   "cell_type": "code",
   "execution_count": 4,
   "metadata": {},
   "outputs": [
    {
     "name": "stdout",
     "output_type": "stream",
     "text": [
      "a : 0\n",
      "b : 10\n",
      "d : 1100\n",
      "f : 11010\n",
      "e : 11011\n",
      "c : 111\n",
      "{'a': '0', 'b': '10', 'd': '1100', 'f': '11010', 'e': '11011', 'c': '111'}\n"
     ]
    }
   ],
   "source": [
    "class node:\n",
    "    def __init__(self, freq, char, left=None, right=None):\n",
    "        # creating node\n",
    "        self.freq = freq\n",
    "        self.char = char\n",
    "        self.left = left\n",
    "        self.right = right\n",
    "        self.huff = \"\"\n",
    "\n",
    "\n",
    "class huffman:\n",
    "    def __init__(self, charlist=None, freqlist=None, text=None):\n",
    "        # haffman operation tarminal\n",
    "        if charlist is None:\n",
    "            if freqlist is None:\n",
    "                if text is None:\n",
    "                    raise Exception(\"Error !! No parameter found.\")\n",
    "\n",
    "        if text:\n",
    "            charlist = list(set(list(text)))\n",
    "            freqlist = [text.count(x) for x in charlist]\n",
    "\n",
    "        tree = self.encoding(charlist, freqlist)\n",
    "        self.display(tree)\n",
    "        \n",
    "        # total time complexity : O(nlogn)\n",
    "\n",
    "    @staticmethod\n",
    "    def encoding(charlist, freqlist):\n",
    "\n",
    "        # creating empty list to store nodes\n",
    "        mynodes = []\n",
    "\n",
    "        # creating node containing freq and char and pusing into list\n",
    "        for i in range(len(charlist)):\n",
    "            mynodes.append(node(freqlist[i], charlist[i]))\n",
    "\n",
    "        # running while to create a tree out of leaf nodes\n",
    "\n",
    "        while len(mynodes) > 1:\n",
    "            # sorting node followed by frequency \n",
    "            # time complexity O(n) \n",
    "            mynodes=sorted(mynodes,key=lambda x: x.freq)\n",
    "            # getting node with minimal frequency\n",
    "            left = mynodes[0]\n",
    "            right=mynodes[1]\n",
    "            \n",
    "            # removing node with minimal frequency\n",
    "            mynodes.remove(left)\n",
    "            mynodes.remove(right)\n",
    "\n",
    "            # setting left & right pathcodes\n",
    "            left.huff = 0\n",
    "            right.huff = 1\n",
    "\n",
    "            # creating and pushing new parent node of tree\n",
    "            # merging left and right child nodes\n",
    "            newnode = node(left.freq + right.freq, left.char + right.char, left, right)\n",
    "            mynodes.append(newnode)\n",
    "\n",
    "        # now tree is created\n",
    "        # tree is the first node of mynode list\n",
    "        return mynodes[0]\n",
    "\n",
    "    def display(self, thisnode, val=\"\"):\n",
    "        # using recurssion method to encode tree\n",
    "        # visualizing the tree and printing encoded values\n",
    "        global ans\n",
    "        # storing the pathcodes as encoded value in newval\n",
    "        newval = val + str(thisnode.huff)\n",
    "\n",
    "        if thisnode.left:\n",
    "            self.display(thisnode.left, newval)\n",
    "\n",
    "        if thisnode.right:\n",
    "            self.display(thisnode.right, newval)\n",
    "\n",
    "        if not thisnode.left and not thisnode.right:\n",
    "            print(thisnode.char, \":\", newval)\n",
    "            ans[thisnode.char]=newval\n",
    "\n",
    "\n",
    "# ..............................................\n",
    "\n",
    "# two option to launching huffman encoder\n",
    "# 1. proving character list and there frequency list\n",
    "# 2. providing the raw text message\n",
    "# dis: only one way at a time.\n",
    "chars = ['a', 'b', 'c', 'd', 'e', 'f']\n",
    "freq = [40, 30, 20, 5, 3, 2]\n",
    "ans={}\n",
    "mytext = \"aaaasssddfgggghhhjjk ll\"\n",
    "\n",
    "huffman(chars, freq)\n",
    "# huffman(text=mytext)\n",
    "# print(ans)"
   ]
  },
  {
   "cell_type": "markdown",
   "metadata": {},
   "source": [
    "<h1 style=\"background-color:#bbff33; padding:10px; text-align:center; font-size:20px; border-radius:20px;color:#ff3377;\">\n",
    "18. Kruskal's Algorithm</h1> "
   ]
  },
  {
   "cell_type": "code",
   "execution_count": 12,
   "metadata": {},
   "outputs": [
    {
     "name": "stdout",
     "output_type": "stream",
     "text": [
      "1 --> 2 : 2\n",
      "2 --> 5 : 2\n",
      "2 --> 3 : 3\n",
      "3 --> 4 : 3\n",
      "0 --> 1 : 4\n",
      "cost of minimal spanning tree =  14\n"
     ]
    }
   ],
   "source": [
    "class mst:\n",
    "    def __init__(self,vertices):\n",
    "        self.vertices=vertices\n",
    "        self.graph=[]\n",
    "        \n",
    "    def addedge(self,s,d,w):\n",
    "        self.graph.append([s,d,w])\n",
    "        \n",
    "    def findparent(self,parent,i):\n",
    "        if parent[i]==i:\n",
    "            return i\n",
    "        return self.findparent(parent,parent[i])\n",
    "    \n",
    "    def union(self,parent,rank,x,y):\n",
    "        xp=self.findparent(parent,x)\n",
    "        yp=self.findparent(parent,y)\n",
    "        \n",
    "        if rank[xp]<rank[yp]:\n",
    "            parent[xp]=yp\n",
    "        elif rank[xp]>rank[yp]:\n",
    "            parent[yp]=xp\n",
    "        else:\n",
    "            parent[yp]=xp\n",
    "            rank[xp]+=1\n",
    "    \n",
    "    def kruskal(self):\n",
    "        result=[]\n",
    "        parent=[]\n",
    "        rank=[]\n",
    "        \n",
    "        self.graph = sorted(self.graph, key=lambda x:x[2])\n",
    "        for j in range(self.vertices):\n",
    "            parent.append(j)\n",
    "            rank.append(0)\n",
    "            \n",
    "        i,e=0,0\n",
    "        \n",
    "        while e<self.vertices-1:\n",
    "            \n",
    "            s,d,w=self.graph[i]\n",
    "            i+=1\n",
    "            \n",
    "            x=self.findparent(parent,s)\n",
    "            y=self.findparent(parent,d)\n",
    "            \n",
    "            if x!=y:\n",
    "                e+=1\n",
    "                result.append([s,d,w])\n",
    "                self.union(parent,rank,x,y)\n",
    "        self.display(result)\n",
    "        \n",
    "    def display(self,result):\n",
    "        cost=0\n",
    "        for edge in result:\n",
    "            print(edge[0],\"-->\",edge[1],\":\",edge[2])\n",
    "            cost+=edge[2]\n",
    "        print(\"cost of minimal spanning tree = \",cost)\n",
    "    \n",
    "g = mst(6)\n",
    "g.addedge(0, 1, 4)\n",
    "g.addedge(0, 2, 4)\n",
    "g.addedge(1, 2, 2)\n",
    "g.addedge(1, 0, 4)\n",
    "g.addedge(2, 0, 4)\n",
    "g.addedge(2, 1, 2)\n",
    "g.addedge(2, 3, 3)\n",
    "g.addedge(2, 5, 2)\n",
    "g.addedge(2, 4, 4)\n",
    "g.addedge(3, 2, 3)\n",
    "g.addedge(3, 4, 3)\n",
    "g.addedge(4, 2, 4)\n",
    "g.addedge(4, 3, 3)\n",
    "g.addedge(5, 2, 2)\n",
    "g.addedge(5, 4, 3)\n",
    "\n",
    "g.kruskal()\n",
    "\n",
    "# time complexity is O(ElogE) or O(ElogV)"
   ]
  },
  {
   "cell_type": "markdown",
   "metadata": {},
   "source": [
    "<h1 style=\"background-color:#bbff33; padding:10px; text-align:center; font-size:20px; border-radius:20px;color:#ff3377;\">\n",
    "19. Bellman Ford algorithm</h1> "
   ]
  },
  {
   "cell_type": "markdown",
   "metadata": {},
   "source": [
    "<h1 style=\"background-color:#bbff33; padding:10px; text-align:center; font-size:20px; border-radius:20px;color:#ff3377;\">\n",
    "20. Travelling Sales Man(TSP) Problem</h1> "
   ]
  },
  {
   "cell_type": "code",
   "execution_count": 54,
   "metadata": {},
   "outputs": [
    {
     "data": {
      "text/plain": [
       "80"
      ]
     },
     "execution_count": 54,
     "metadata": {},
     "output_type": "execute_result"
    }
   ],
   "source": [
    "from sys import maxsize\n",
    "from itertools import permutations\n",
    "\n",
    "def tsp(graph,s):\n",
    "    v=len(graph)\n",
    "    vertices=[]\n",
    "    for x in range(v):\n",
    "        if x!=s:\n",
    "            vertices.append(x)\n",
    "    minpath=maxsize\n",
    "    perm=permutations(vertices)\n",
    "    \n",
    "    for i in perm:\n",
    "        current=0\n",
    "        k=s\n",
    "        for j in i:\n",
    "            current+=graph[k][j]\n",
    "            k=j\n",
    "            \n",
    "        current+=graph[k][s]\n",
    "        minpath=min(minpath,current)\n",
    "    return minpath\n",
    "        \n",
    "graph = [[0, 10, 15, 20], [10, 0, 35, 25], [15, 35, 0, 30], [20, 25, 30, 0]]\n",
    "s = 0\n",
    "tsp(graph,s)\n",
    "\n",
    "# time complexity for tsp O((n^2) * (2^n))\n",
    "    "
   ]
  },
  {
   "cell_type": "markdown",
   "metadata": {},
   "source": [
    "<h1 style=\"background-color:#bbff33; padding:10px; text-align:center; font-size:20px; border-radius:20px;color:#ff3377;\">\n",
    "21. Prim's algorithm</h1> "
   ]
  },
  {
   "cell_type": "code",
   "execution_count": null,
   "metadata": {},
   "outputs": [],
   "source": []
  },
  {
   "cell_type": "markdown",
   "metadata": {},
   "source": [
    "<h1 style=\"background-color:#bbff33; padding:10px; text-align:center; font-size:20px; border-radius:20px;color:#ff3377;\">\n",
    "22. Dijkstra's single source shortest path algorithm</h1> "
   ]
  },
  {
   "cell_type": "code",
   "execution_count": null,
   "metadata": {},
   "outputs": [],
   "source": []
  },
  {
   "cell_type": "markdown",
   "metadata": {},
   "source": [
    "<h1 style=\"background-color:#bbff33; padding:10px; text-align:center; font-size:20px; border-radius:20px;color:#ff3377;\">\n",
    "23. Longest Common Subsequence algorithm with Dynamic approch</h1> "
   ]
  },
  {
   "cell_type": "code",
   "execution_count": 53,
   "metadata": {
    "scrolled": true
   },
   "outputs": [
    {
     "name": "stdout",
     "output_type": "stream",
     "text": [
      "3 3 B\n",
      "2 2 A\n",
      "1 1 T\n",
      "0 0 G\n",
      "lcs of ' AGGTAB ' and ' GXTXAYB ' : [4, 'GTAB']\n"
     ]
    }
   ],
   "source": [
    "def lcs(a,b):\n",
    "    m=len(a)\n",
    "    n=len(b)\n",
    "    tab=[[None]*(n+1) for _ in range(m+1)]\n",
    "    \n",
    "    for i in range(m+1):\n",
    "        for j in range(n+1):\n",
    "            if i==0 or j==0:\n",
    "                tab[i][j]=0\n",
    "            elif a[i-1]==b[j-1]:\n",
    "                tab[i][j]=tab[i-1][j-1]+1\n",
    "            else:\n",
    "                tab[i][j]=max(tab[i-1][j],tab[i][j-1])\n",
    "    \n",
    "    i,j=m,n\n",
    "    lcs=\"\"\n",
    "    \n",
    "    while i>0 and j>0:\n",
    "        if tab[i-1][j]==tab[i][j-1]:\n",
    "            if a[i-1]==b[j-1]:\n",
    "                lcs=a[i-1]+lcs\n",
    "                print(tab[i-1][j],tab[i][j-1],a[i-1])\n",
    "                i-=1\n",
    "                j-=1\n",
    "            else:\n",
    "                i-=1\n",
    "        elif tab[i-1][j]>tab[i][j-1]:\n",
    "            i-=1\n",
    "        else:\n",
    "            j-=1\n",
    "    \n",
    "    return [tab[m][n],lcs]\n",
    "a = \"AGGTAB\"\n",
    "b = \"GXTXAYB\"\n",
    "# a = \"ACADB\"\n",
    "# b = \"CBDA\"\n",
    "print(\"lcs of '\",a,\"' and '\",b,\"' :\", lcs(a,b))\n",
    "\n",
    "# time complexity for longest common subsequence"
   ]
  },
  {
   "cell_type": "markdown",
   "metadata": {},
   "source": [
    "<h1 style=\"background-color:#bbff33; padding:10px; text-align:center; font-size:20px; border-radius:20px;color:#ff3377;\">\n",
    "24. BFS</h1> "
   ]
  },
  {
   "cell_type": "code",
   "execution_count": null,
   "metadata": {},
   "outputs": [],
   "source": []
  },
  {
   "cell_type": "markdown",
   "metadata": {},
   "source": [
    "<h1 style=\"background-color:#bbff33; padding:10px; text-align:center; font-size:20px; border-radius:20px;color:#ff3377;\">\n",
    "25. DFS</h1> "
   ]
  },
  {
   "cell_type": "code",
   "execution_count": null,
   "metadata": {},
   "outputs": [],
   "source": []
  },
  {
   "cell_type": "markdown",
   "metadata": {},
   "source": [
    "<h1 style=\"background-color:#ff3377; padding:10px; text-align:center; font-size:20px; border-radius:20px;color:white;\">\n",
    "26. N-Queen using Backtracking</h1> "
   ]
  },
  {
   "cell_type": "code",
   "execution_count": null,
   "metadata": {},
   "outputs": [],
   "source": []
  }
 ],
 "metadata": {
  "kernelspec": {
   "display_name": "Python 3",
   "language": "python",
   "name": "python3"
  },
  "language_info": {
   "codemirror_mode": {
    "name": "ipython",
    "version": 3
   },
   "file_extension": ".py",
   "mimetype": "text/x-python",
   "name": "python",
   "nbconvert_exporter": "python",
   "pygments_lexer": "ipython3",
   "version": "3.8.5"
  }
 },
 "nbformat": 4,
 "nbformat_minor": 4
}
